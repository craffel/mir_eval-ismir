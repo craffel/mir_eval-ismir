{
 "metadata": {
  "name": "",
  "signature": "sha256:c6106e726c2e0b7d0d3478812691e7aa28fa38926abf38f52c21f4953ff6abc1"
 },
 "nbformat": 3,
 "nbformat_minor": 0,
 "worksheets": [
  {
   "cells": [
    {
     "cell_type": "code",
     "collapsed": false,
     "input": [
      "import os\n",
      "import json\n",
      "import re\n",
      "import numpy as np\n",
      "import librosa\n",
      "from glob import glob\n",
      "from pprint import pprint"
     ],
     "language": "python",
     "metadata": {},
     "outputs": [],
     "prompt_number": 89
    },
    {
     "cell_type": "code",
     "collapsed": false,
     "input": [
      "DATA_PATH = os.path.expanduser('~/git/mir_eval/tests/data/segment/')"
     ],
     "language": "python",
     "metadata": {},
     "outputs": [],
     "prompt_number": 66
    },
    {
     "cell_type": "code",
     "collapsed": false,
     "input": [
      "JS_FILES = sorted(glob(os.path.join(DATA_PATH, 'raw_data', '*.js')))\n",
      "SCORE_FILES = sorted(glob(os.path.join(DATA_PATH, 'raw_data', '*.txt')))\n",
      "LEGEND = os.path.join(DATA_PATH, 'raw_data', 'LEGEND')"
     ],
     "language": "python",
     "metadata": {},
     "outputs": [],
     "prompt_number": 67
    },
    {
     "cell_type": "code",
     "collapsed": false,
     "input": [
      "def json_cleaner(filename):\n",
      "    with open(filename, 'r') as f:\n",
      "        contents = ''.join(line for line in f)\n",
      "    \n",
      "    contents = re.sub('var .*_data = ', '{data: ', contents)\n",
      "    contents = re.sub('];', '],', contents)\n",
      "    contents = re.sub('var .*_seriesNames = ', 'series_names: ', contents)\n",
      "    contents = contents.strip()[:-1] + '}'\n",
      "    contents = re.sub('(\\w+):', '\"\\g<1>\":', contents)\n",
      "    \n",
      "    data = json.loads(contents)\n",
      "    \n",
      "    return data\n",
      "\n",
      "def parse_segments(data):\n",
      "    \n",
      "    def extract_intervals(x):\n",
      "        intervals = []\n",
      "        labels = []\n",
      "        for datum in x:\n",
      "            intervals.append([datum['o'], datum['f']])\n",
      "            labels.append(datum['l'])\n",
      "            \n",
      "        return np.asarray(intervals), labels\n",
      "    \n",
      "    if 'truth' in data['series_names'][0]:\n",
      "        ref_id = 0\n",
      "        est_id = 1\n",
      "    else:\n",
      "        ref_id = 1\n",
      "        est_id = 0\n",
      "        \n",
      "    # Extract intervals\n",
      "    ref_t, ref_l = extract_intervals(data['data'][ref_id])\n",
      "    est_t, est_l = extract_intervals(data['data'][est_id])\n",
      "    \n",
      "    return ref_t, ref_l, est_t, est_l"
     ],
     "language": "python",
     "metadata": {},
     "outputs": [],
     "prompt_number": 87
    },
    {
     "cell_type": "code",
     "collapsed": false,
     "input": [
      "def load_legend(filename):\n",
      "    with open(filename, 'r') as f:\n",
      "        legend = [line.strip() for line in f]\n",
      "        \n",
      "    return legend"
     ],
     "language": "python",
     "metadata": {},
     "outputs": [],
     "prompt_number": 90
    },
    {
     "cell_type": "code",
     "collapsed": false,
     "input": [
      "def parse_scores(filename, legend):\n",
      "    scores = {}\n",
      "    with open(filename, 'r') as f:\n",
      "        for n, v in zip(legend, f):\n",
      "            try:\n",
      "                v = float(v)\n",
      "                scores[n] = v\n",
      "            except:\n",
      "                pass\n",
      "    return scores"
     ],
     "language": "python",
     "metadata": {},
     "outputs": [],
     "prompt_number": 95
    },
    {
     "cell_type": "code",
     "collapsed": false,
     "input": [
      "legend = load_legend(LEGEND)"
     ],
     "language": "python",
     "metadata": {},
     "outputs": [],
     "prompt_number": 91
    },
    {
     "cell_type": "code",
     "collapsed": false,
     "input": [
      "for i, (js, score) in enumerate(zip(JS_FILES, SCORE_FILES)):\n",
      "    ref_t, ref_l, est_t, est_l = parse_segments(json_cleaner(js))\n",
      "    value = parse_scores(score, legend)\n",
      "    \n",
      "    with open(os.path.join(DATA_PATH, 'score%02d.json' % i), 'w') as f:\n",
      "        json.dump(value, f)\n",
      "        \n",
      "    librosa.output.annotation(os.path.join(DATA_PATH, 'ref%02d.lab' % i), ref_t[:, 0], ref_t[:, 1], annotations=ref_l, delimiter='\\t')\n",
      "    librosa.output.annotation(os.path.join(DATA_PATH, 'est%02d.lab' % i), est_t[:, 0], est_t[:, 1], annotations=est_l, delimiter='\\t')"
     ],
     "language": "python",
     "metadata": {},
     "outputs": [],
     "prompt_number": 104
    }
   ],
   "metadata": {}
  }
 ]
}